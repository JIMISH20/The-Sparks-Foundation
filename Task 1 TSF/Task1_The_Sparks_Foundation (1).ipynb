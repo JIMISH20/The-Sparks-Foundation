{
  "nbformat": 4,
  "nbformat_minor": 0,
  "metadata": {
    "colab": {
      "name": "Task1 The Sparks Foundation.ipynb",
      "provenance": [],
      "collapsed_sections": []
    },
    "kernelspec": {
      "name": "python3",
      "display_name": "Python 3"
    }
  },
  "cells": [
    {
      "cell_type": "markdown",
      "metadata": {
        "id": "CIh7L9jClJX0"
      },
      "source": [
        "# **Task 1 :- Prediction using Supervised ML**\r\n",
        "\r\n",
        "**Implemented By :- KHOLAPURE JIMISH PRAMOD**"
      ]
    },
    {
      "cell_type": "markdown",
      "metadata": {
        "id": "WBK0JtIM-JQZ"
      },
      "source": [
        "*Aim :- To Predict the scores of students given the number of Hours studied using Simple Linear Regression*"
      ]
    },
    {
      "cell_type": "markdown",
      "metadata": {
        "id": "ZGg4Ij6v6jLQ"
      },
      "source": [
        "**Importing the required Libraries**"
      ]
    },
    {
      "cell_type": "code",
      "metadata": {
        "id": "qOrsycPjjFwG"
      },
      "source": [
        "#Import all the necessary libraries.\r\n",
        "\r\n",
        "import pandas as pd\r\n",
        "import numpy as np\r\n",
        "import warnings\r\n",
        "warnings.filterwarnings(\"ignore\")\r\n",
        "pd.set_option(\"display.max_columns\",None)\r\n",
        "import seaborn as sns\r\n",
        "import matplotlib as plt\r\n",
        "import matplotlib.pyplot as plt\r\n"
      ],
      "execution_count": 15,
      "outputs": []
    },
    {
      "cell_type": "markdown",
      "metadata": {
        "id": "r40TOCBa6-kd"
      },
      "source": [
        "**Loading the Dataset**"
      ]
    },
    {
      "cell_type": "code",
      "metadata": {
        "colab": {
          "base_uri": "https://localhost:8080/",
          "height": 221
        },
        "id": "2sUT1nZskK67",
        "outputId": "63d5e6dd-a96f-4262-80a7-5cb1a00221d2"
      },
      "source": [
        "#Loading the dataset from the specified url\r\n",
        "\r\n",
        "df=pd.read_csv(\"https://raw.githubusercontent.com/AdiPersonalWorks/Random/master/student_scores%20-%20student_scores.csv\")\r\n",
        "print(\"Dataset imported Successfully\")\r\n",
        "df.head()"
      ],
      "execution_count": 16,
      "outputs": [
        {
          "output_type": "stream",
          "text": [
            "Dataset imported Successfully\n"
          ],
          "name": "stdout"
        },
        {
          "output_type": "execute_result",
          "data": {
            "text/html": [
              "<div>\n",
              "<style scoped>\n",
              "    .dataframe tbody tr th:only-of-type {\n",
              "        vertical-align: middle;\n",
              "    }\n",
              "\n",
              "    .dataframe tbody tr th {\n",
              "        vertical-align: top;\n",
              "    }\n",
              "\n",
              "    .dataframe thead th {\n",
              "        text-align: right;\n",
              "    }\n",
              "</style>\n",
              "<table border=\"1\" class=\"dataframe\">\n",
              "  <thead>\n",
              "    <tr style=\"text-align: right;\">\n",
              "      <th></th>\n",
              "      <th>Hours</th>\n",
              "      <th>Scores</th>\n",
              "    </tr>\n",
              "  </thead>\n",
              "  <tbody>\n",
              "    <tr>\n",
              "      <th>0</th>\n",
              "      <td>2.5</td>\n",
              "      <td>21</td>\n",
              "    </tr>\n",
              "    <tr>\n",
              "      <th>1</th>\n",
              "      <td>5.1</td>\n",
              "      <td>47</td>\n",
              "    </tr>\n",
              "    <tr>\n",
              "      <th>2</th>\n",
              "      <td>3.2</td>\n",
              "      <td>27</td>\n",
              "    </tr>\n",
              "    <tr>\n",
              "      <th>3</th>\n",
              "      <td>8.5</td>\n",
              "      <td>75</td>\n",
              "    </tr>\n",
              "    <tr>\n",
              "      <th>4</th>\n",
              "      <td>3.5</td>\n",
              "      <td>30</td>\n",
              "    </tr>\n",
              "  </tbody>\n",
              "</table>\n",
              "</div>"
            ],
            "text/plain": [
              "   Hours  Scores\n",
              "0    2.5      21\n",
              "1    5.1      47\n",
              "2    3.2      27\n",
              "3    8.5      75\n",
              "4    3.5      30"
            ]
          },
          "metadata": {
            "tags": []
          },
          "execution_count": 16
        }
      ]
    },
    {
      "cell_type": "markdown",
      "metadata": {
        "id": "lguIu4vu7G18"
      },
      "source": [
        "**Briefing the DataSet**"
      ]
    },
    {
      "cell_type": "code",
      "metadata": {
        "colab": {
          "base_uri": "https://localhost:8080/",
          "height": 297
        },
        "id": "iY4885yMkyDI",
        "outputId": "897f2dd7-7444-4f70-a9a1-4fba55dc229f"
      },
      "source": [
        "#The describe() function is used to generate descriptive statistics.\r\n",
        "df.describe()\r\n"
      ],
      "execution_count": 17,
      "outputs": [
        {
          "output_type": "execute_result",
          "data": {
            "text/html": [
              "<div>\n",
              "<style scoped>\n",
              "    .dataframe tbody tr th:only-of-type {\n",
              "        vertical-align: middle;\n",
              "    }\n",
              "\n",
              "    .dataframe tbody tr th {\n",
              "        vertical-align: top;\n",
              "    }\n",
              "\n",
              "    .dataframe thead th {\n",
              "        text-align: right;\n",
              "    }\n",
              "</style>\n",
              "<table border=\"1\" class=\"dataframe\">\n",
              "  <thead>\n",
              "    <tr style=\"text-align: right;\">\n",
              "      <th></th>\n",
              "      <th>Hours</th>\n",
              "      <th>Scores</th>\n",
              "    </tr>\n",
              "  </thead>\n",
              "  <tbody>\n",
              "    <tr>\n",
              "      <th>count</th>\n",
              "      <td>25.000000</td>\n",
              "      <td>25.000000</td>\n",
              "    </tr>\n",
              "    <tr>\n",
              "      <th>mean</th>\n",
              "      <td>5.012000</td>\n",
              "      <td>51.480000</td>\n",
              "    </tr>\n",
              "    <tr>\n",
              "      <th>std</th>\n",
              "      <td>2.525094</td>\n",
              "      <td>25.286887</td>\n",
              "    </tr>\n",
              "    <tr>\n",
              "      <th>min</th>\n",
              "      <td>1.100000</td>\n",
              "      <td>17.000000</td>\n",
              "    </tr>\n",
              "    <tr>\n",
              "      <th>25%</th>\n",
              "      <td>2.700000</td>\n",
              "      <td>30.000000</td>\n",
              "    </tr>\n",
              "    <tr>\n",
              "      <th>50%</th>\n",
              "      <td>4.800000</td>\n",
              "      <td>47.000000</td>\n",
              "    </tr>\n",
              "    <tr>\n",
              "      <th>75%</th>\n",
              "      <td>7.400000</td>\n",
              "      <td>75.000000</td>\n",
              "    </tr>\n",
              "    <tr>\n",
              "      <th>max</th>\n",
              "      <td>9.200000</td>\n",
              "      <td>95.000000</td>\n",
              "    </tr>\n",
              "  </tbody>\n",
              "</table>\n",
              "</div>"
            ],
            "text/plain": [
              "           Hours     Scores\n",
              "count  25.000000  25.000000\n",
              "mean    5.012000  51.480000\n",
              "std     2.525094  25.286887\n",
              "min     1.100000  17.000000\n",
              "25%     2.700000  30.000000\n",
              "50%     4.800000  47.000000\n",
              "75%     7.400000  75.000000\n",
              "max     9.200000  95.000000"
            ]
          },
          "metadata": {
            "tags": []
          },
          "execution_count": 17
        }
      ]
    },
    {
      "cell_type": "code",
      "metadata": {
        "colab": {
          "base_uri": "https://localhost:8080/"
        },
        "id": "D8pN7IPmk1TQ",
        "outputId": "392c047d-7893-4df0-b38f-c9e93ef5cfa5"
      },
      "source": [
        "#The info() function is used to get a concise summary of the dataframe. It comes really handy when doing exploratory analysis of the data\r\n",
        "df.info()"
      ],
      "execution_count": 18,
      "outputs": [
        {
          "output_type": "stream",
          "text": [
            "<class 'pandas.core.frame.DataFrame'>\n",
            "RangeIndex: 25 entries, 0 to 24\n",
            "Data columns (total 2 columns):\n",
            " #   Column  Non-Null Count  Dtype  \n",
            "---  ------  --------------  -----  \n",
            " 0   Hours   25 non-null     float64\n",
            " 1   Scores  25 non-null     int64  \n",
            "dtypes: float64(1), int64(1)\n",
            "memory usage: 528.0 bytes\n"
          ],
          "name": "stdout"
        }
      ]
    },
    {
      "cell_type": "markdown",
      "metadata": {
        "id": "GHOXpS0C7ZBZ"
      },
      "source": [
        "**Box Ploting the values to Find any presence of outliers in the data**"
      ]
    },
    {
      "cell_type": "code",
      "metadata": {
        "colab": {
          "base_uri": "https://localhost:8080/",
          "height": 282
        },
        "id": "GXqYK6QRQhhW",
        "outputId": "8e64635a-be28-4e2c-d289-926bc7ca2bb2"
      },
      "source": [
        "df.boxplot(column=\"Hours\")\r\n",
        "df.boxplot(column=\"Scores\")"
      ],
      "execution_count": 19,
      "outputs": [
        {
          "output_type": "execute_result",
          "data": {
            "text/plain": [
              "<matplotlib.axes._subplots.AxesSubplot at 0x7fe061fe67d0>"
            ]
          },
          "metadata": {
            "tags": []
          },
          "execution_count": 19
        },
        {
          "output_type": "display_data",
          "data": {
            "image/png": "[encoded data removed]",
            "text/plain": [
              "<Figure size 432x288 with 1 Axes>"
            ]
          },
          "metadata": {
            "tags": [],
            "needs_background": "light"
          }
        }
      ]
    },
    {
      "cell_type": "markdown",
      "metadata": {
        "id": "M3Lb03hcRCJk"
      },
      "source": [
        "**From the above boxplot we can say that there is no presence of outliers in the dataset.**"
      ]
    },
    {
      "cell_type": "code",
      "metadata": {
        "id": "4NgUgxki7yV3"
      },
      "source": [
        ""
      ],
      "execution_count": 19,
      "outputs": []
    },
    {
      "cell_type": "markdown",
      "metadata": {
        "id": "Nxd22n6w7zWG"
      },
      "source": [
        "**Linear Relationship between the two variables**"
      ]
    },
    {
      "cell_type": "code",
      "metadata": {
        "colab": {
          "base_uri": "https://localhost:8080/",
          "height": 214
        },
        "id": "f6QO03pKRSUe",
        "outputId": "774e8888-87f8-4f28-afdc-13ad81ed74a6"
      },
      "source": [
        "sns.pairplot(df,x_vars=\"Hours\",y_vars=\"Scores\",kind=\"reg\")\r\n",
        "\r\n"
      ],
      "execution_count": 20,
      "outputs": [
        {
          "output_type": "execute_result",
          "data": {
            "text/plain": [
              "<seaborn.axisgrid.PairGrid at 0x7fe062008910>"
            ]
          },
          "metadata": {
            "tags": []
          },
          "execution_count": 20
        },
        {
          "output_type": "display_data",
          "data": {
            "image/png": "[encoded data removed]",
            "text/plain": [
              "<Figure size 180x180 with 1 Axes>"
            ]
          },
          "metadata": {
            "tags": [],
            "needs_background": "light"
          }
        }
      ]
    },
    {
      "cell_type": "markdown",
      "metadata": {
        "id": "WD6-dGe45qll"
      },
      "source": [
        "**Plotting the Score Distribution**"
      ]
    },
    {
      "cell_type": "code",
      "metadata": {
        "colab": {
          "base_uri": "https://localhost:8080/",
          "height": 295
        },
        "id": "_ATsblNf1ceW",
        "outputId": "a569c3c6-3d7a-4e54-c6cc-0830f528a8ce"
      },
      "source": [
        "#Data Visualization\r\n",
        "df.plot(x='Hours',y='Scores',style='d',)\r\n",
        "plt.grid()\r\n",
        "plt.title('Marks Vs Study Hours')\r\n",
        "plt.xlabel('Study Hours')\r\n",
        "plt.ylabel('Percentage Scored')\r\n",
        "plt.show()"
      ],
      "execution_count": 21,
      "outputs": [
        {
          "output_type": "display_data",
          "data": {
            "image/png": "[encoded data removed]",
            "text/plain": [
              "<Figure size 432x288 with 1 Axes>"
            ]
          },
          "metadata": {
            "tags": [],
            "needs_background": "light"
          }
        }
      ]
    },
    {
      "cell_type": "markdown",
      "metadata": {
        "id": "ozNk4Tm77-Qw"
      },
      "source": [
        "**Splitting the Dataset into Training and Test Dataset.**"
      ]
    },
    {
      "cell_type": "code",
      "metadata": {
        "id": "5gNJfN032aTk"
      },
      "source": [
        "X = df[[\"Hours\"]]\r\n",
        "Y = df[[\"Scores\"]]\r\n",
        "from sklearn.model_selection import train_test_split\r\n",
        "X_train,X_test,Y_train,Y_test =  train_test_split(X,Y, test_size=0.2,random_state=10)"
      ],
      "execution_count": 22,
      "outputs": []
    },
    {
      "cell_type": "markdown",
      "metadata": {
        "id": "bc8bRNgZ3lLt"
      },
      "source": [
        "**Implementing Linear Regression**"
      ]
    },
    {
      "cell_type": "code",
      "metadata": {
        "colab": {
          "base_uri": "https://localhost:8080/"
        },
        "id": "KkrkK6Fo3cP8",
        "outputId": "50729847-386a-4bfd-c71e-48ef1bd485d3"
      },
      "source": [
        "from sklearn.linear_model import LinearRegression\r\n",
        "lm = LinearRegression()\r\n",
        "lm.fit(X_train,Y_train)\r\n",
        "\r\n",
        "print(lm.coef_)\r\n",
        "print(lm.intercept_)\r\n"
      ],
      "execution_count": 23,
      "outputs": [
        {
          "output_type": "stream",
          "text": [
            "[[9.81430544]]\n",
            "[2.64996519]\n"
          ],
          "name": "stdout"
        }
      ]
    },
    {
      "cell_type": "markdown",
      "metadata": {
        "id": "93B5nlDH4BgM"
      },
      "source": [
        "**Prediction**"
      ]
    },
    {
      "cell_type": "code",
      "metadata": {
        "colab": {
          "base_uri": "https://localhost:8080/"
        },
        "id": "jlAOEfQw4A9c",
        "outputId": "52f62f7f-7c5e-4d2d-88a8-1e2a5c939d63"
      },
      "source": [
        "Y_pred = lm.predict(X_test)\r\n",
        "Y_pred"
      ],
      "execution_count": 24,
      "outputs": [
        {
          "output_type": "execute_result",
          "data": {
            "text/plain": [
              "array([[17.37142335],\n",
              "       [52.70292295],\n",
              "       [35.03717315],\n",
              "       [34.05574261],\n",
              "       [46.81433968]])"
            ]
          },
          "metadata": {
            "tags": []
          },
          "execution_count": 24
        }
      ]
    },
    {
      "cell_type": "code",
      "metadata": {
        "colab": {
          "base_uri": "https://localhost:8080/"
        },
        "id": "lNa6Jold4Qss",
        "outputId": "fce15dca-284d-4965-b96f-c6f53a92b07a"
      },
      "source": [
        "#Prediction of Score for Student Studing 9.25 hours\r\n",
        "\r\n",
        "pred = lm.predict([[9.25]])\r\n",
        "pred\r\n",
        "\r\n",
        "print(\"Number of Hours Studied : 9.25\")\r\n",
        "print(\"The Predicted Score : \",pred)\r\n",
        "#The Score of Student for 9.25 hours is 93.43%"
      ],
      "execution_count": 25,
      "outputs": [
        {
          "output_type": "stream",
          "text": [
            "Number of Hours Studied : 9.25\n",
            "The Predicted Score :  [[93.43229054]]\n"
          ],
          "name": "stdout"
        }
      ]
    },
    {
      "cell_type": "markdown",
      "metadata": {
        "id": "pPXNHcii54Tp"
      },
      "source": [
        "**The Final Predicted Score is : *93.43%* for Student Studing 9.25 Hours**\r\n"
      ]
    },
    {
      "cell_type": "code",
      "metadata": {
        "colab": {
          "base_uri": "https://localhost:8080/",
          "height": 204
        },
        "id": "_i_g2WR6IIg4",
        "outputId": "fa860727-53a3-4fa2-e0d0-85cd445b97a9"
      },
      "source": [
        "Y_test"
      ],
      "execution_count": 26,
      "outputs": [
        {
          "output_type": "execute_result",
          "data": {
            "text/html": [
              "<div>\n",
              "<style scoped>\n",
              "    .dataframe tbody tr th:only-of-type {\n",
              "        vertical-align: middle;\n",
              "    }\n",
              "\n",
              "    .dataframe tbody tr th {\n",
              "        vertical-align: top;\n",
              "    }\n",
              "\n",
              "    .dataframe thead th {\n",
              "        text-align: right;\n",
              "    }\n",
              "</style>\n",
              "<table border=\"1\" class=\"dataframe\">\n",
              "  <thead>\n",
              "    <tr style=\"text-align: right;\">\n",
              "      <th></th>\n",
              "      <th>Scores</th>\n",
              "    </tr>\n",
              "  </thead>\n",
              "  <tbody>\n",
              "    <tr>\n",
              "      <th>5</th>\n",
              "      <td>20</td>\n",
              "    </tr>\n",
              "    <tr>\n",
              "      <th>1</th>\n",
              "      <td>47</td>\n",
              "    </tr>\n",
              "    <tr>\n",
              "      <th>13</th>\n",
              "      <td>42</td>\n",
              "    </tr>\n",
              "    <tr>\n",
              "      <th>2</th>\n",
              "      <td>27</td>\n",
              "    </tr>\n",
              "    <tr>\n",
              "      <th>12</th>\n",
              "      <td>41</td>\n",
              "    </tr>\n",
              "  </tbody>\n",
              "</table>\n",
              "</div>"
            ],
            "text/plain": [
              "    Scores\n",
              "5       20\n",
              "1       47\n",
              "13      42\n",
              "2       27\n",
              "12      41"
            ]
          },
          "metadata": {
            "tags": []
          },
          "execution_count": 26
        }
      ]
    },
    {
      "cell_type": "markdown",
      "metadata": {
        "id": "pSboG2-SIPjb"
      },
      "source": [
        "**Creating new Dataframe for Actual and Predicted Values**"
      ]
    },
    {
      "cell_type": "code",
      "metadata": {
        "colab": {
          "base_uri": "https://localhost:8080/",
          "height": 204
        },
        "id": "j9LDhn3XIW5N",
        "outputId": "71921d7d-84b0-4446-cb5c-d90261d53028"
      },
      "source": [
        "dataframe = pd.DataFrame()\r\n",
        "dataframe = X_test\r\n",
        "\r\n",
        "dataframe['Actual'] = Y_test\r\n",
        "dataframe['Predicted'] = Y_pred\r\n",
        "dataframe"
      ],
      "execution_count": 27,
      "outputs": [
        {
          "output_type": "execute_result",
          "data": {
            "text/html": [
              "<div>\n",
              "<style scoped>\n",
              "    .dataframe tbody tr th:only-of-type {\n",
              "        vertical-align: middle;\n",
              "    }\n",
              "\n",
              "    .dataframe tbody tr th {\n",
              "        vertical-align: top;\n",
              "    }\n",
              "\n",
              "    .dataframe thead th {\n",
              "        text-align: right;\n",
              "    }\n",
              "</style>\n",
              "<table border=\"1\" class=\"dataframe\">\n",
              "  <thead>\n",
              "    <tr style=\"text-align: right;\">\n",
              "      <th></th>\n",
              "      <th>Hours</th>\n",
              "      <th>Actual</th>\n",
              "      <th>Predicted</th>\n",
              "    </tr>\n",
              "  </thead>\n",
              "  <tbody>\n",
              "    <tr>\n",
              "      <th>5</th>\n",
              "      <td>1.5</td>\n",
              "      <td>20</td>\n",
              "      <td>17.371423</td>\n",
              "    </tr>\n",
              "    <tr>\n",
              "      <th>1</th>\n",
              "      <td>5.1</td>\n",
              "      <td>47</td>\n",
              "      <td>52.702923</td>\n",
              "    </tr>\n",
              "    <tr>\n",
              "      <th>13</th>\n",
              "      <td>3.3</td>\n",
              "      <td>42</td>\n",
              "      <td>35.037173</td>\n",
              "    </tr>\n",
              "    <tr>\n",
              "      <th>2</th>\n",
              "      <td>3.2</td>\n",
              "      <td>27</td>\n",
              "      <td>34.055743</td>\n",
              "    </tr>\n",
              "    <tr>\n",
              "      <th>12</th>\n",
              "      <td>4.5</td>\n",
              "      <td>41</td>\n",
              "      <td>46.814340</td>\n",
              "    </tr>\n",
              "  </tbody>\n",
              "</table>\n",
              "</div>"
            ],
            "text/plain": [
              "    Hours  Actual  Predicted\n",
              "5     1.5      20  17.371423\n",
              "1     5.1      47  52.702923\n",
              "13    3.3      42  35.037173\n",
              "2     3.2      27  34.055743\n",
              "12    4.5      41  46.814340"
            ]
          },
          "metadata": {
            "tags": []
          },
          "execution_count": 27
        }
      ]
    },
    {
      "cell_type": "markdown",
      "metadata": {
        "id": "dP8Do9y8Iv3f"
      },
      "source": [
        "**Evaluating the Model**"
      ]
    },
    {
      "cell_type": "code",
      "metadata": {
        "colab": {
          "base_uri": "https://localhost:8080/"
        },
        "id": "wV57_wniIzZN",
        "outputId": "9b024007-3240-4867-f857-06547a4a8945"
      },
      "source": [
        "from sklearn.metrics import mean_absolute_error,r2_score\r\n",
        "Mean = mean_absolute_error(Y_test,Y_pred)\r\n",
        "r2 = r2_score(Y_test , Y_pred)\r\n",
        "\r\n",
        "print(\"Mean Absolute Error :\",Mean)\r\n",
        "print(\"R2_Score\",r2)"
      ],
      "execution_count": 28,
      "outputs": [
        {
          "output_type": "stream",
          "text": [
            "Mean Absolute Error : 5.632881746692994\n",
            "R2_Score 0.6683995499740198\n"
          ],
          "name": "stdout"
        }
      ]
    },
    {
      "cell_type": "markdown",
      "metadata": {
        "id": "0F14sXWvSmTk"
      },
      "source": [
        "# **Synopsis**\r\n",
        "\r\n",
        "The Dataset was loaded into the dataframe.\r\n",
        "\r\n",
        "Exploratory data analysis was performed.\r\n",
        "\r\n",
        "Data was splitted into training and testing dataset.\r\n",
        "\r\n",
        "Further the model was trained using Linear Regression.\r\n",
        "\r\n",
        "Finally the values were predicted.\r\n",
        "\r\n",
        "The model was Evaluated on metrics such as Mean Absolute Error and R2 Score."
      ]
    }
  ]
}